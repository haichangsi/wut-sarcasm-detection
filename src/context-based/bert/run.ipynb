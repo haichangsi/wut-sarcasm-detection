{
 "cells": [
  {
   "cell_type": "code",
   "metadata": {
    "ExecuteTime": {
     "end_time": "2024-05-23T15:18:02.408413Z",
     "start_time": "2024-05-23T15:17:57.932829Z"
    }
   },
   "source": [
    "! pip install pytorch-lightning==2.1.0"
   ],
   "outputs": [
    {
     "name": "stdout",
     "output_type": "stream",
     "text": [
      "Requirement already satisfied: pytorch-lightning==2.1.0 in c:\\users\\wojtek\\appdata\\local\\programs\\python\\python311\\lib\\site-packages (2.1.0)\n",
      "Requirement already satisfied: numpy>=1.17.2 in c:\\users\\wojtek\\appdata\\local\\programs\\python\\python311\\lib\\site-packages (from pytorch-lightning==2.1.0) (1.26.4)\n",
      "Requirement already satisfied: torch>=1.12.0 in c:\\users\\wojtek\\appdata\\local\\programs\\python\\python311\\lib\\site-packages (from pytorch-lightning==2.1.0) (2.3.0)\n",
      "Requirement already satisfied: tqdm>=4.57.0 in c:\\users\\wojtek\\appdata\\local\\programs\\python\\python311\\lib\\site-packages (from pytorch-lightning==2.1.0) (4.66.4)\n",
      "Requirement already satisfied: PyYAML>=5.4 in c:\\users\\wojtek\\appdata\\local\\programs\\python\\python311\\lib\\site-packages (from pytorch-lightning==2.1.0) (6.0.1)\n",
      "Requirement already satisfied: fsspec>2021.06.0 in c:\\users\\wojtek\\appdata\\local\\programs\\python\\python311\\lib\\site-packages (from fsspec[http]>2021.06.0->pytorch-lightning==2.1.0) (2024.5.0)\n",
      "Requirement already satisfied: torchmetrics>=0.7.0 in c:\\users\\wojtek\\appdata\\local\\programs\\python\\python311\\lib\\site-packages (from pytorch-lightning==2.1.0) (1.4.0.post0)\n",
      "Requirement already satisfied: packaging>=20.0 in c:\\users\\wojtek\\appdata\\local\\programs\\python\\python311\\lib\\site-packages (from pytorch-lightning==2.1.0) (23.1)\n",
      "Requirement already satisfied: typing-extensions>=4.0.0 in c:\\users\\wojtek\\appdata\\local\\programs\\python\\python311\\lib\\site-packages (from pytorch-lightning==2.1.0) (4.11.0)\n",
      "Requirement already satisfied: lightning-utilities>=0.8.0 in c:\\users\\wojtek\\appdata\\local\\programs\\python\\python311\\lib\\site-packages (from pytorch-lightning==2.1.0) (0.11.2)\n",
      "Requirement already satisfied: aiohttp!=4.0.0a0,!=4.0.0a1 in c:\\users\\wojtek\\appdata\\local\\programs\\python\\python311\\lib\\site-packages (from fsspec[http]>2021.06.0->pytorch-lightning==2.1.0) (3.9.5)\n",
      "Requirement already satisfied: setuptools in c:\\users\\wojtek\\appdata\\local\\programs\\python\\python311\\lib\\site-packages (from lightning-utilities>=0.8.0->pytorch-lightning==2.1.0) (65.5.0)\n",
      "Requirement already satisfied: filelock in c:\\users\\wojtek\\appdata\\local\\programs\\python\\python311\\lib\\site-packages (from torch>=1.12.0->pytorch-lightning==2.1.0) (3.14.0)\n",
      "Requirement already satisfied: sympy in c:\\users\\wojtek\\appdata\\local\\programs\\python\\python311\\lib\\site-packages (from torch>=1.12.0->pytorch-lightning==2.1.0) (1.12)\n",
      "Requirement already satisfied: networkx in c:\\users\\wojtek\\appdata\\local\\programs\\python\\python311\\lib\\site-packages (from torch>=1.12.0->pytorch-lightning==2.1.0) (3.3)\n",
      "Requirement already satisfied: jinja2 in c:\\users\\wojtek\\appdata\\local\\programs\\python\\python311\\lib\\site-packages (from torch>=1.12.0->pytorch-lightning==2.1.0) (3.1.4)\n",
      "Requirement already satisfied: mkl<=2021.4.0,>=2021.1.1 in c:\\users\\wojtek\\appdata\\local\\programs\\python\\python311\\lib\\site-packages (from torch>=1.12.0->pytorch-lightning==2.1.0) (2021.4.0)\n",
      "Requirement already satisfied: colorama in c:\\users\\wojtek\\appdata\\local\\programs\\python\\python311\\lib\\site-packages (from tqdm>=4.57.0->pytorch-lightning==2.1.0) (0.4.6)\n",
      "Requirement already satisfied: aiosignal>=1.1.2 in c:\\users\\wojtek\\appdata\\local\\programs\\python\\python311\\lib\\site-packages (from aiohttp!=4.0.0a0,!=4.0.0a1->fsspec[http]>2021.06.0->pytorch-lightning==2.1.0) (1.3.1)\n",
      "Requirement already satisfied: attrs>=17.3.0 in c:\\users\\wojtek\\appdata\\local\\programs\\python\\python311\\lib\\site-packages (from aiohttp!=4.0.0a0,!=4.0.0a1->fsspec[http]>2021.06.0->pytorch-lightning==2.1.0) (23.2.0)\n",
      "Requirement already satisfied: frozenlist>=1.1.1 in c:\\users\\wojtek\\appdata\\local\\programs\\python\\python311\\lib\\site-packages (from aiohttp!=4.0.0a0,!=4.0.0a1->fsspec[http]>2021.06.0->pytorch-lightning==2.1.0) (1.4.1)\n",
      "Requirement already satisfied: multidict<7.0,>=4.5 in c:\\users\\wojtek\\appdata\\local\\programs\\python\\python311\\lib\\site-packages (from aiohttp!=4.0.0a0,!=4.0.0a1->fsspec[http]>2021.06.0->pytorch-lightning==2.1.0) (6.0.5)\n",
      "Requirement already satisfied: yarl<2.0,>=1.0 in c:\\users\\wojtek\\appdata\\local\\programs\\python\\python311\\lib\\site-packages (from aiohttp!=4.0.0a0,!=4.0.0a1->fsspec[http]>2021.06.0->pytorch-lightning==2.1.0) (1.9.4)\n",
      "Requirement already satisfied: intel-openmp==2021.* in c:\\users\\wojtek\\appdata\\local\\programs\\python\\python311\\lib\\site-packages (from mkl<=2021.4.0,>=2021.1.1->torch>=1.12.0->pytorch-lightning==2.1.0) (2021.4.0)\n",
      "Requirement already satisfied: tbb==2021.* in c:\\users\\wojtek\\appdata\\local\\programs\\python\\python311\\lib\\site-packages (from mkl<=2021.4.0,>=2021.1.1->torch>=1.12.0->pytorch-lightning==2.1.0) (2021.12.0)\n",
      "Requirement already satisfied: MarkupSafe>=2.0 in c:\\users\\wojtek\\appdata\\local\\programs\\python\\python311\\lib\\site-packages (from jinja2->torch>=1.12.0->pytorch-lightning==2.1.0) (2.1.5)\n",
      "Requirement already satisfied: mpmath>=0.19 in c:\\users\\wojtek\\appdata\\local\\programs\\python\\python311\\lib\\site-packages (from sympy->torch>=1.12.0->pytorch-lightning==2.1.0) (1.3.0)\n",
      "Requirement already satisfied: idna>=2.0 in c:\\users\\wojtek\\appdata\\local\\programs\\python\\python311\\lib\\site-packages (from yarl<2.0,>=1.0->aiohttp!=4.0.0a0,!=4.0.0a1->fsspec[http]>2021.06.0->pytorch-lightning==2.1.0) (3.7)\n"
     ]
    }
   ],
   "execution_count": 9
  },
  {
   "cell_type": "code",
   "metadata": {
    "ExecuteTime": {
     "end_time": "2024-05-23T15:18:02.485500Z",
     "start_time": "2024-05-23T15:18:02.460423Z"
    }
   },
   "source": [
    "import torch\n",
    "import torch.nn.functional as F\n",
    "import pytorch_lightning as pl\n",
    "from transformers import (\n",
    "    BertModel,\n",
    "    AdamW,\n",
    "    get_linear_schedule_with_warmup,\n",
    ")\n",
    "from sklearn.metrics import accuracy_score, precision_recall_fscore_support\n",
    "from pytorch_lightning import Trainer\n",
    "from utils import load_json_dataset\n",
    "from bert_model import HeadlinesSarcasmDataModule\n",
    "from bert_model import HeadlinesSarcasmClassifier"
   ],
   "outputs": [],
   "execution_count": 10
  },
  {
   "metadata": {},
   "cell_type": "code",
   "source": "",
   "outputs": [],
   "execution_count": 10
  },
  {
   "cell_type": "code",
   "metadata": {
    "jupyter": {
     "is_executing": true
    },
    "ExecuteTime": {
     "start_time": "2024-05-23T15:18:02.489674Z"
    }
   },
   "source": [
    "train, val, test = load_json_dataset(\"../../../data/headlines_dataset/Sarcasm_Headlines_Dataset.json\")\n",
    "steps_per_epoch = len(train) // 16\n",
    "n_epochs = 3\n",
    "classifier = HeadlinesSarcasmClassifier(\n",
    "    steps_per_epoch=steps_per_epoch, n_epochs=n_epochs\n",
    ")\n",
    "data_module = HeadlinesSarcasmDataModule(train, val, test)\n",
    "trainer = Trainer(max_epochs=n_epochs, accelerator=\"auto\")\n",
    "trainer.fit(model=classifier, datamodule=data_module)\n",
    "trainer.test(model=classifier, datamodule=data_module)\n"
   ],
   "outputs": [
    {
     "data": {
      "text/plain": [
       "config.json:   0%|          | 0.00/570 [00:00<?, ?B/s]"
      ],
      "application/vnd.jupyter.widget-view+json": {
       "version_major": 2,
       "version_minor": 0,
       "model_id": "e633922df389446a8b7c5af90929dc56"
      }
     },
     "metadata": {},
     "output_type": "display_data"
    },
    {
     "name": "stderr",
     "output_type": "stream",
     "text": [
      "C:\\Users\\Wojtek\\AppData\\Local\\Programs\\Python\\Python311\\Lib\\site-packages\\huggingface_hub\\file_download.py:157: UserWarning: `huggingface_hub` cache-system uses symlinks by default to efficiently store duplicated files but your machine does not support them in C:\\Users\\Wojtek\\.cache\\huggingface\\hub\\models--bert-base-uncased. Caching files will still work but in a degraded version that might require more space on your disk. This warning can be disabled by setting the `HF_HUB_DISABLE_SYMLINKS_WARNING` environment variable. For more details, see https://huggingface.co/docs/huggingface_hub/how-to-cache#limitations.\n",
      "To support symlinks on Windows, you either need to activate Developer Mode or to run Python as an administrator. In order to see activate developer mode, see this article: https://docs.microsoft.com/en-us/windows/apps/get-started/enable-your-device-for-development\n",
      "  warnings.warn(message)\n"
     ]
    },
    {
     "data": {
      "text/plain": [
       "model.safetensors:   0%|          | 0.00/440M [00:00<?, ?B/s]"
      ],
      "application/vnd.jupyter.widget-view+json": {
       "version_major": 2,
       "version_minor": 0,
       "model_id": "fa632b1234a74ddfb036320624b687db"
      }
     },
     "metadata": {},
     "output_type": "display_data"
    }
   ],
   "execution_count": null
  },
  {
   "metadata": {
    "jupyter": {
     "is_executing": true
    }
   },
   "cell_type": "code",
   "source": "",
   "outputs": [],
   "execution_count": null
  }
 ],
 "metadata": {
  "kernelspec": {
   "display_name": "venv",
   "language": "python",
   "name": "python3"
  },
  "language_info": {
   "codemirror_mode": {
    "name": "ipython",
    "version": 3
   },
   "file_extension": ".py",
   "mimetype": "text/x-python",
   "name": "python",
   "nbconvert_exporter": "python",
   "pygments_lexer": "ipython3",
   "version": "3.10.12"
  }
 },
 "nbformat": 4,
 "nbformat_minor": 2
}
