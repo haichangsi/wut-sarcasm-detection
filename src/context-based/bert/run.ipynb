{
 "cells": [
  {
   "cell_type": "code",
   "execution_count": null,
   "metadata": {},
   "outputs": [],
   "source": [
    "! pip install pytorch-lightning==2.1.0"
   ]
  },
  {
   "cell_type": "code",
   "execution_count": 18,
   "metadata": {},
   "outputs": [],
   "source": [
    "import torch\n",
    "import torch.nn.functional as F\n",
    "import pytorch_lightning as pl\n",
    "from transformers import (\n",
    "    BertModel,\n",
    "    AdamW,\n",
    "    get_linear_schedule_with_warmup,\n",
    ")\n",
    "from sklearn.metrics import accuracy_score, precision_recall_fscore_support\n",
    "from pytorch_lightning import Trainer\n",
    "\n",
    "\n",
    "from bert_model import HeadlinesSarcasmClassifier"
   ]
  },
  {
   "cell_type": "code",
   "execution_count": null,
   "metadata": {},
   "outputs": [],
   "source": [
    "train, val, test = load_json_dataset(\"../../../data/headlines_dataset/Sarcasm_Headlines_Dataset.json\")\n",
    "steps_per_epoch = len(train) // 16\n",
    "n_epochs = 3\n",
    "classifier = HeadlinesSarcasmClassifier(\n",
    "    steps_per_epoch=steps_per_epoch, n_epochs=n_epochs\n",
    ")\n",
    "data_module = HeadlinesSarcasmDataModule(train, val, test)\n",
    "trainer = Trainer(max_epochs=n_epochs, accelerator=\"auto\")\n",
    "trainer.fit(model=classifier, datamodule=data_module)\n",
    "trainer.test(model=classifier, datamodule=data_module)\n"
   ]
  }
 ],
 "metadata": {
  "kernelspec": {
   "display_name": "venv",
   "language": "python",
   "name": "python3"
  },
  "language_info": {
   "codemirror_mode": {
    "name": "ipython",
    "version": 3
   },
   "file_extension": ".py",
   "mimetype": "text/x-python",
   "name": "python",
   "nbconvert_exporter": "python",
   "pygments_lexer": "ipython3",
   "version": "3.10.12"
  }
 },
 "nbformat": 4,
 "nbformat_minor": 2
}
